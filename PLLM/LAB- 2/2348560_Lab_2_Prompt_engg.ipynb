{
  "nbformat": 4,
  "nbformat_minor": 0,
  "metadata": {
    "colab": {
      "provenance": []
    },
    "kernelspec": {
      "name": "python3",
      "display_name": "Python 3"
    },
    "language_info": {
      "name": "python"
    }
  },
  "cells": [
    {
      "cell_type": "markdown",
      "source": [
        "###Part A: Implementing the Question Answering System\n"
      ],
      "metadata": {
        "id": "fQwaZYiri4Df"
      }
    },
    {
      "cell_type": "code",
      "execution_count": 11,
      "metadata": {
        "colab": {
          "base_uri": "https://localhost:8080/"
        },
        "id": "7C5Jux1MeQju",
        "outputId": "ef556231-abdf-4d15-8bbe-02c9fb49843f"
      },
      "outputs": [
        {
          "output_type": "stream",
          "name": "stdout",
          "text": [
            "Requirement already satisfied: transformers in /usr/local/lib/python3.10/dist-packages (4.41.2)\n",
            "Requirement already satisfied: filelock in /usr/local/lib/python3.10/dist-packages (from transformers) (3.15.4)\n",
            "Requirement already satisfied: huggingface-hub<1.0,>=0.23.0 in /usr/local/lib/python3.10/dist-packages (from transformers) (0.23.4)\n",
            "Requirement already satisfied: numpy>=1.17 in /usr/local/lib/python3.10/dist-packages (from transformers) (1.25.2)\n",
            "Requirement already satisfied: packaging>=20.0 in /usr/local/lib/python3.10/dist-packages (from transformers) (24.1)\n",
            "Requirement already satisfied: pyyaml>=5.1 in /usr/local/lib/python3.10/dist-packages (from transformers) (6.0.1)\n",
            "Requirement already satisfied: regex!=2019.12.17 in /usr/local/lib/python3.10/dist-packages (from transformers) (2024.5.15)\n",
            "Requirement already satisfied: requests in /usr/local/lib/python3.10/dist-packages (from transformers) (2.31.0)\n",
            "Requirement already satisfied: tokenizers<0.20,>=0.19 in /usr/local/lib/python3.10/dist-packages (from transformers) (0.19.1)\n",
            "Requirement already satisfied: safetensors>=0.4.1 in /usr/local/lib/python3.10/dist-packages (from transformers) (0.4.3)\n",
            "Requirement already satisfied: tqdm>=4.27 in /usr/local/lib/python3.10/dist-packages (from transformers) (4.66.4)\n",
            "Requirement already satisfied: fsspec>=2023.5.0 in /usr/local/lib/python3.10/dist-packages (from huggingface-hub<1.0,>=0.23.0->transformers) (2023.6.0)\n",
            "Requirement already satisfied: typing-extensions>=3.7.4.3 in /usr/local/lib/python3.10/dist-packages (from huggingface-hub<1.0,>=0.23.0->transformers) (4.12.2)\n",
            "Requirement already satisfied: charset-normalizer<4,>=2 in /usr/local/lib/python3.10/dist-packages (from requests->transformers) (3.3.2)\n",
            "Requirement already satisfied: idna<4,>=2.5 in /usr/local/lib/python3.10/dist-packages (from requests->transformers) (3.7)\n",
            "Requirement already satisfied: urllib3<3,>=1.21.1 in /usr/local/lib/python3.10/dist-packages (from requests->transformers) (2.0.7)\n",
            "Requirement already satisfied: certifi>=2017.4.17 in /usr/local/lib/python3.10/dist-packages (from requests->transformers) (2024.6.2)\n"
          ]
        }
      ],
      "source": [
        "# Install necessary libraries\n",
        "!pip install transformers\n",
        "\n",
        "from transformers import pipeline"
      ]
    },
    {
      "cell_type": "code",
      "source": [
        "# Load the pre-trained BERT model and tokenizer\n",
        "model_name = \"bert-large-uncased-whole-word-masking-finetuned-squad\"\n",
        "qa_pipeline = pipeline(\"question-answering\", model=model_name)"
      ],
      "metadata": {
        "colab": {
          "base_uri": "https://localhost:8080/"
        },
        "id": "-mjXgX_sijF7",
        "outputId": "7b04580b-f52c-430a-e9d0-c1d7505ce91f"
      },
      "execution_count": 12,
      "outputs": [
        {
          "output_type": "stream",
          "name": "stderr",
          "text": [
            "Some weights of the model checkpoint at bert-large-uncased-whole-word-masking-finetuned-squad were not used when initializing BertForQuestionAnswering: ['bert.pooler.dense.bias', 'bert.pooler.dense.weight']\n",
            "- This IS expected if you are initializing BertForQuestionAnswering from the checkpoint of a model trained on another task or with another architecture (e.g. initializing a BertForSequenceClassification model from a BertForPreTraining model).\n",
            "- This IS NOT expected if you are initializing BertForQuestionAnswering from the checkpoint of a model that you expect to be exactly identical (initializing a BertForSequenceClassification model from a BertForSequenceClassification model).\n"
          ]
        }
      ]
    },
    {
      "cell_type": "code",
      "source": [
        "# Function to answer questions\n",
        "def answer_question(context, question):\n",
        "    response = qa_pipeline({\n",
        "        'context': context,\n",
        "        'question': question\n",
        "    })\n",
        "    return response['answer']"
      ],
      "metadata": {
        "id": "7X9Fh3LCilxv"
      },
      "execution_count": 13,
      "outputs": []
    },
    {
      "cell_type": "code",
      "source": [
        "# Example context and question\n",
        "context = \"\"\"\n",
        "Artificial intelligence (AI) is revolutionizing the way we interact with technology, seamlessly integrating into various aspects of our daily lives. From virtual assistants like Siri and Alexa that streamline our daily tasks to advanced algorithms driving personalized recommendations on platforms like Netflix and Amazon, AI is transforming user experiences. In healthcare, AI aids in diagnosing diseases, analyzing medical images, and developing personalized treatment plans. Autonomous vehicles and smart cities utilize AI for enhanced safety and efficiency. Despite its current capabilities, AI continues to evolve, with research pushing the boundaries towards achieving general AI, which promises to bring even more profound changes to society. However, this rapid advancement also raises ethical and societal considerations, including data privacy, job displacement, and the need for transparent and fair AI systems.\"\"\"\n",
        "question = \"What is artificial intelligence?\""
      ],
      "metadata": {
        "id": "hx2aIM5WiopF"
      },
      "execution_count": 14,
      "outputs": []
    },
    {
      "cell_type": "code",
      "source": [
        "# Get the answer\n",
        "answer = answer_question(context, question)\n",
        "print(\"Answer:\", answer)"
      ],
      "metadata": {
        "colab": {
          "base_uri": "https://localhost:8080/"
        },
        "id": "3CzCdvjiiqtB",
        "outputId": "b097e69d-3a82-4dd2-9e08-a8d71563c3fd"
      },
      "execution_count": 15,
      "outputs": [
        {
          "output_type": "stream",
          "name": "stdout",
          "text": [
            "Answer: revolutionizing the way we interact with technology\n"
          ]
        }
      ]
    },
    {
      "cell_type": "markdown",
      "source": [
        "###Part B: Prompt Engineering and Optimization\n"
      ],
      "metadata": {
        "id": "TE13mIAxiz4j"
      }
    },
    {
      "cell_type": "code",
      "source": [
        "prompts = [\n",
        "    \"What is artificial intelligence?\",\n",
        "    \"Can you explain what artificial intelligence is?\",\n",
        "    \"Describe artificial intelligence.\"\n",
        "]\n",
        "\n",
        "for prompt in prompts:\n",
        "    answer = answer_question(context, prompt)\n",
        "    print(f\"Prompt: {prompt}\\nAnswer: {answer}\\n\")\n"
      ],
      "metadata": {
        "colab": {
          "base_uri": "https://localhost:8080/"
        },
        "id": "9RB55_bNi9MH",
        "outputId": "7972f264-1b8c-4959-a0ee-ec26e598ca04"
      },
      "execution_count": 16,
      "outputs": [
        {
          "output_type": "stream",
          "name": "stdout",
          "text": [
            "Prompt: What is artificial intelligence?\n",
            "Answer: revolutionizing the way we interact with technology\n",
            "\n",
            "Prompt: Can you explain what artificial intelligence is?\n",
            "Answer: revolutionizing the way we interact with technology\n",
            "\n",
            "Prompt: Describe artificial intelligence.\n",
            "Answer: Artificial intelligence (AI) is revolutionizing the way we interact with technology\n",
            "\n"
          ]
        }
      ]
    },
    {
      "cell_type": "markdown",
      "source": [
        "###Sample Questions and Answers\n"
      ],
      "metadata": {
        "id": "qipIEOD0jGvl"
      }
    },
    {
      "cell_type": "markdown",
      "source": [],
      "metadata": {
        "id": "PhqXYfmqjGnP"
      }
    },
    {
      "cell_type": "code",
      "source": [
        "sample_questions = [\n",
        "    \"What is artificial intelligence?\",\n",
        "    \"How does machine learning differ from AI?\",\n",
        "    \"Explain the concept of deep learning.\"\n",
        "]\n",
        "\n",
        "sample_contexts = [\n",
        "    context,\n",
        "    \"\"\"\n",
        "    Machine learning is a subset of AI that involves the use of algorithms and statistical models to enable machines to improve their performance on a task with experience.\n",
        "    \"\"\",\n",
        "    \"\"\"\n",
        "    Deep learning is a subset of machine learning that uses neural networks with many layers (deep neural networks) to analyze various types of data and generate predictions or insights.\n",
        "    \"\"\"\n",
        "]\n",
        "\n",
        "for question, context in zip(sample_questions, sample_contexts):\n",
        "    answer = answer_question(context, question)\n",
        "    print(f\"Question: {question}\\nAnswer: {answer}\\n\")\n"
      ],
      "metadata": {
        "colab": {
          "base_uri": "https://localhost:8080/"
        },
        "id": "pzNjbCNCjkPe",
        "outputId": "9c9e9913-62c0-4d10-c248-7bbc5d27ac4a"
      },
      "execution_count": 17,
      "outputs": [
        {
          "output_type": "stream",
          "name": "stdout",
          "text": [
            "Question: What is artificial intelligence?\n",
            "Answer: revolutionizing the way we interact with technology\n",
            "\n",
            "Question: How does machine learning differ from AI?\n",
            "Answer: use of algorithms and statistical models\n",
            "\n",
            "Question: Explain the concept of deep learning.\n",
            "Answer: uses neural networks with many layers\n",
            "\n"
          ]
        }
      ]
    }
  ]
}