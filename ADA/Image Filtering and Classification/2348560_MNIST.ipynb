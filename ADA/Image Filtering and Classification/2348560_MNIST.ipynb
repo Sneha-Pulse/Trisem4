{
  "cells": [
    {
      "cell_type": "markdown",
      "id": "defined-appendix",
      "metadata": {
        "papermill": {
          "duration": 0.008891,
          "end_time": "2021-05-03T23:26:21.087438",
          "exception": false,
          "start_time": "2021-05-03T23:26:21.078547",
          "status": "completed"
        },
        "tags": [],
        "id": "defined-appendix"
      },
      "source": [
        "# Importing Libraries"
      ]
    },
    {
      "cell_type": "code",
      "execution_count": 1,
      "id": "comic-termination",
      "metadata": {
        "execution": {
          "iopub.execute_input": "2021-05-03T23:26:21.114183Z",
          "iopub.status.busy": "2021-05-03T23:26:21.111742Z",
          "iopub.status.idle": "2021-05-03T23:26:26.309775Z",
          "shell.execute_reply": "2021-05-03T23:26:26.309176Z"
        },
        "papermill": {
          "duration": 5.214012,
          "end_time": "2021-05-03T23:26:26.309942",
          "exception": false,
          "start_time": "2021-05-03T23:26:21.095930",
          "status": "completed"
        },
        "tags": [],
        "id": "comic-termination"
      },
      "outputs": [],
      "source": [
        "import keras\n",
        "from keras.datasets import mnist\n",
        "from keras.models import Sequential\n",
        "from keras.layers import Dense, Dropout, Flatten\n",
        "from keras.layers import Conv2D, MaxPooling2D\n",
        "from keras import backend as K"
      ]
    },
    {
      "cell_type": "markdown",
      "id": "actual-desktop",
      "metadata": {
        "papermill": {
          "duration": 0.00779,
          "end_time": "2021-05-03T23:26:26.326429",
          "exception": false,
          "start_time": "2021-05-03T23:26:26.318639",
          "status": "completed"
        },
        "tags": [],
        "id": "actual-desktop"
      },
      "source": [
        "# Loading Dataset"
      ]
    },
    {
      "cell_type": "code",
      "execution_count": 2,
      "id": "still-password",
      "metadata": {
        "execution": {
          "iopub.execute_input": "2021-05-03T23:26:26.347039Z",
          "iopub.status.busy": "2021-05-03T23:26:26.346260Z",
          "iopub.status.idle": "2021-05-03T23:26:27.148793Z",
          "shell.execute_reply": "2021-05-03T23:26:27.149280Z"
        },
        "papermill": {
          "duration": 0.814967,
          "end_time": "2021-05-03T23:26:27.149450",
          "exception": false,
          "start_time": "2021-05-03T23:26:26.334483",
          "status": "completed"
        },
        "tags": [],
        "colab": {
          "base_uri": "https://localhost:8080/"
        },
        "id": "still-password",
        "outputId": "21decaea-f9e2-41e4-aca6-24a0b8700e06"
      },
      "outputs": [
        {
          "output_type": "stream",
          "name": "stdout",
          "text": [
            "Downloading data from https://storage.googleapis.com/tensorflow/tf-keras-datasets/mnist.npz\n",
            "11490434/11490434 [==============================] - 0s 0us/step\n",
            "(60000, 28, 28) (60000,)\n"
          ]
        }
      ],
      "source": [
        "# the data, split between train and test sets\n",
        "(x_train, y_train), (x_test, y_test) = mnist.load_data()\n",
        "\n",
        "print(x_train.shape, y_train.shape)"
      ]
    },
    {
      "cell_type": "markdown",
      "id": "sunrise-consumer",
      "metadata": {
        "papermill": {
          "duration": 0.010405,
          "end_time": "2021-05-03T23:26:27.170864",
          "exception": false,
          "start_time": "2021-05-03T23:26:27.160459",
          "status": "completed"
        },
        "tags": [],
        "id": "sunrise-consumer"
      },
      "source": [
        "# Data Preprocessing\n",
        "#### The dimension of the training data is (60000,28,28). The CNN model will require one more dimension so we reshape the matrix to shape (60000,28,28,1)."
      ]
    },
    {
      "cell_type": "code",
      "execution_count": 3,
      "id": "electrical-photography",
      "metadata": {
        "execution": {
          "iopub.execute_input": "2021-05-03T23:26:27.198898Z",
          "iopub.status.busy": "2021-05-03T23:26:27.197737Z",
          "iopub.status.idle": "2021-05-03T23:26:27.284281Z",
          "shell.execute_reply": "2021-05-03T23:26:27.284837Z"
        },
        "papermill": {
          "duration": 0.10387,
          "end_time": "2021-05-03T23:26:27.285030",
          "exception": false,
          "start_time": "2021-05-03T23:26:27.181160",
          "status": "completed"
        },
        "tags": [],
        "colab": {
          "base_uri": "https://localhost:8080/"
        },
        "id": "electrical-photography",
        "outputId": "fd9b29a6-7927-4f81-f81b-cd80701aa995"
      },
      "outputs": [
        {
          "output_type": "stream",
          "name": "stdout",
          "text": [
            "x_train shape: (60000, 28, 28, 1)\n",
            "60000 train samples\n",
            "10000 test samples\n"
          ]
        }
      ],
      "source": [
        "x_train = x_train.reshape(x_train.shape[0], 28, 28, 1)\n",
        "x_test = x_test.reshape(x_test.shape[0], 28, 28, 1)\n",
        "input_shape = (28, 28, 1)\n",
        "\n",
        "# convert class vectors to binary class matrices\n",
        "y_train = keras.utils.to_categorical(y_train, num_classes=10)\n",
        "y_test = keras.utils.to_categorical(y_test, num_classes=10)\n",
        "\n",
        "x_train = x_train.astype('float32')\n",
        "x_test = x_test.astype('float32')\n",
        "x_train /= 255\n",
        "x_test /= 255\n",
        "print('x_train shape:', x_train.shape)\n",
        "print(x_train.shape[0], 'train samples')\n",
        "print(x_test.shape[0], 'test samples')"
      ]
    },
    {
      "cell_type": "markdown",
      "id": "turkish-prior",
      "metadata": {
        "papermill": {
          "duration": 0.010184,
          "end_time": "2021-05-03T23:26:27.306561",
          "exception": false,
          "start_time": "2021-05-03T23:26:27.296377",
          "status": "completed"
        },
        "tags": [],
        "id": "turkish-prior"
      },
      "source": [
        "# Model"
      ]
    },
    {
      "cell_type": "code",
      "execution_count": 4,
      "id": "expensive-minute",
      "metadata": {
        "execution": {
          "iopub.execute_input": "2021-05-03T23:26:27.333618Z",
          "iopub.status.busy": "2021-05-03T23:26:27.333123Z",
          "iopub.status.idle": "2021-05-03T23:26:30.087619Z",
          "shell.execute_reply": "2021-05-03T23:26:30.087097Z"
        },
        "papermill": {
          "duration": 2.770708,
          "end_time": "2021-05-03T23:26:30.087746",
          "exception": false,
          "start_time": "2021-05-03T23:26:27.317038",
          "status": "completed"
        },
        "tags": [],
        "id": "expensive-minute"
      },
      "outputs": [],
      "source": [
        "batch_size = 128\n",
        "num_classes = 10\n",
        "epochs = 10\n",
        "\n",
        "model = Sequential()\n",
        "model.add(Conv2D(32, kernel_size=(3, 3),activation='relu',input_shape=input_shape))\n",
        "model.add(Conv2D(64, (3, 3), activation='relu'))\n",
        "model.add(MaxPooling2D(pool_size=(2, 2)))\n",
        "model.add(Dropout(0.25))\n",
        "model.add(Flatten())\n",
        "model.add(Dense(256, activation='relu'))\n",
        "model.add(Dropout(0.5))\n",
        "model.add(Dense(num_classes, activation='softmax'))\n",
        "\n",
        "model.compile(loss=keras.losses.categorical_crossentropy,optimizer=keras.optimizers.Adadelta(),metrics=['accuracy'])"
      ]
    },
    {
      "cell_type": "markdown",
      "id": "prescribed-values",
      "metadata": {
        "papermill": {
          "duration": 0.010109,
          "end_time": "2021-05-03T23:26:30.108528",
          "exception": false,
          "start_time": "2021-05-03T23:26:30.098419",
          "status": "completed"
        },
        "tags": [],
        "id": "prescribed-values"
      },
      "source": [
        "# Train the Model"
      ]
    },
    {
      "cell_type": "code",
      "execution_count": 5,
      "id": "constitutional-thanksgiving",
      "metadata": {
        "execution": {
          "iopub.execute_input": "2021-05-03T23:26:30.133451Z",
          "iopub.status.busy": "2021-05-03T23:26:30.132909Z",
          "iopub.status.idle": "2021-05-03T23:33:27.241923Z",
          "shell.execute_reply": "2021-05-03T23:33:27.242521Z"
        },
        "papermill": {
          "duration": 417.123638,
          "end_time": "2021-05-03T23:33:27.242711",
          "exception": false,
          "start_time": "2021-05-03T23:26:30.119073",
          "status": "completed"
        },
        "tags": [],
        "colab": {
          "base_uri": "https://localhost:8080/"
        },
        "id": "constitutional-thanksgiving",
        "outputId": "03cc23b0-6b59-438e-e3c7-ba8c079b481f"
      },
      "outputs": [
        {
          "output_type": "stream",
          "name": "stdout",
          "text": [
            "Epoch 1/10\n",
            "469/469 [==============================] - 177s 374ms/step - loss: 2.2711 - accuracy: 0.1796 - val_loss: 2.2289 - val_accuracy: 0.5041\n",
            "Epoch 2/10\n",
            "469/469 [==============================] - 161s 344ms/step - loss: 2.2019 - accuracy: 0.3467 - val_loss: 2.1439 - val_accuracy: 0.6650\n",
            "Epoch 3/10\n",
            "469/469 [==============================] - 163s 347ms/step - loss: 2.1118 - accuracy: 0.4660 - val_loss: 2.0271 - val_accuracy: 0.7108\n",
            "Epoch 4/10\n",
            "469/469 [==============================] - 164s 351ms/step - loss: 1.9817 - accuracy: 0.5460 - val_loss: 1.8600 - val_accuracy: 0.7450\n",
            "Epoch 5/10\n",
            "469/469 [==============================] - 167s 357ms/step - loss: 1.8079 - accuracy: 0.6000 - val_loss: 1.6368 - val_accuracy: 0.7732\n",
            "Epoch 6/10\n",
            "469/469 [==============================] - 163s 348ms/step - loss: 1.5898 - accuracy: 0.6448 - val_loss: 1.3758 - val_accuracy: 0.7986\n",
            "Epoch 7/10\n",
            "469/469 [==============================] - 167s 356ms/step - loss: 1.3667 - accuracy: 0.6742 - val_loss: 1.1280 - val_accuracy: 0.8151\n",
            "Epoch 8/10\n",
            "469/469 [==============================] - 162s 346ms/step - loss: 1.1720 - accuracy: 0.7023 - val_loss: 0.9313 - val_accuracy: 0.8257\n",
            "Epoch 9/10\n",
            "469/469 [==============================] - 163s 348ms/step - loss: 1.0247 - accuracy: 0.7232 - val_loss: 0.7909 - val_accuracy: 0.8371\n",
            "Epoch 10/10\n",
            "469/469 [==============================] - 168s 358ms/step - loss: 0.9139 - accuracy: 0.7449 - val_loss: 0.6921 - val_accuracy: 0.8471\n",
            "The model has successfully trained\n"
          ]
        }
      ],
      "source": [
        "hist = model.fit(x_train, y_train,batch_size=batch_size,epochs=epochs,verbose=1,validation_data=(x_test, y_test))\n",
        "print(\"The model has successfully trained\")\n"
      ]
    },
    {
      "cell_type": "markdown",
      "id": "third-number",
      "metadata": {
        "papermill": {
          "duration": 1.634961,
          "end_time": "2021-05-03T23:33:30.490503",
          "exception": false,
          "start_time": "2021-05-03T23:33:28.855542",
          "status": "completed"
        },
        "tags": [],
        "id": "third-number"
      },
      "source": [
        "# Save the Model"
      ]
    },
    {
      "cell_type": "code",
      "execution_count": 6,
      "id": "incredible-universe",
      "metadata": {
        "execution": {
          "iopub.execute_input": "2021-05-03T23:33:34.151924Z",
          "iopub.status.busy": "2021-05-03T23:33:34.145733Z",
          "iopub.status.idle": "2021-05-03T23:33:34.239972Z",
          "shell.execute_reply": "2021-05-03T23:33:34.241029Z"
        },
        "papermill": {
          "duration": 1.842625,
          "end_time": "2021-05-03T23:33:34.241307",
          "exception": false,
          "start_time": "2021-05-03T23:33:32.398682",
          "status": "completed"
        },
        "tags": [],
        "colab": {
          "base_uri": "https://localhost:8080/"
        },
        "id": "incredible-universe",
        "outputId": "18213863-54d0-43b4-a243-200810252605"
      },
      "outputs": [
        {
          "output_type": "stream",
          "name": "stdout",
          "text": [
            "Saving the model as mnist.h5\n"
          ]
        },
        {
          "output_type": "stream",
          "name": "stderr",
          "text": [
            "/usr/local/lib/python3.10/dist-packages/keras/src/engine/training.py:3103: UserWarning: You are saving your model as an HDF5 file via `model.save()`. This file format is considered legacy. We recommend using instead the native Keras format, e.g. `model.save('my_model.keras')`.\n",
            "  saving_api.save_model(\n"
          ]
        }
      ],
      "source": [
        "model.save('mnist.h5')\n",
        "print(\"Saving the model as mnist.h5\")"
      ]
    },
    {
      "cell_type": "markdown",
      "id": "metric-sperm",
      "metadata": {
        "papermill": {
          "duration": 1.550967,
          "end_time": "2021-05-03T23:33:37.400946",
          "exception": false,
          "start_time": "2021-05-03T23:33:35.849979",
          "status": "completed"
        },
        "tags": [],
        "id": "metric-sperm"
      },
      "source": [
        "# Model Evaluation"
      ]
    },
    {
      "cell_type": "code",
      "execution_count": 7,
      "id": "alike-executive",
      "metadata": {
        "execution": {
          "iopub.execute_input": "2021-05-03T23:33:40.558972Z",
          "iopub.status.busy": "2021-05-03T23:33:40.558061Z",
          "iopub.status.idle": "2021-05-03T23:33:41.965364Z",
          "shell.execute_reply": "2021-05-03T23:33:41.964920Z"
        },
        "papermill": {
          "duration": 2.969721,
          "end_time": "2021-05-03T23:33:41.965497",
          "exception": false,
          "start_time": "2021-05-03T23:33:38.995776",
          "status": "completed"
        },
        "tags": [],
        "colab": {
          "base_uri": "https://localhost:8080/"
        },
        "id": "alike-executive",
        "outputId": "4518d2c4-39ca-4757-efbf-0a052bb167e1"
      },
      "outputs": [
        {
          "output_type": "stream",
          "name": "stdout",
          "text": [
            "Test loss: 0.6920922994613647\n",
            "Test accuracy: 0.847100019454956\n"
          ]
        }
      ],
      "source": [
        "score = model.evaluate(x_test, y_test, verbose=0)\n",
        "print('Test loss:', score[0])\n",
        "print('Test accuracy:', score[1])"
      ]
    }
  ],
  "metadata": {
    "kernelspec": {
      "display_name": "Python 3",
      "language": "python",
      "name": "python3"
    },
    "language_info": {
      "codemirror_mode": {
        "name": "ipython",
        "version": 3
      },
      "file_extension": ".py",
      "mimetype": "text/x-python",
      "name": "python",
      "nbconvert_exporter": "python",
      "pygments_lexer": "ipython3",
      "version": "3.7.10"
    },
    "papermill": {
      "default_parameters": {},
      "duration": 456.312952,
      "end_time": "2021-05-03T23:33:50.237496",
      "environment_variables": {},
      "exception": null,
      "input_path": "__notebook__.ipynb",
      "output_path": "__notebook__.ipynb",
      "parameters": {},
      "start_time": "2021-05-03T23:26:13.924544",
      "version": "2.3.3"
    },
    "colab": {
      "provenance": []
    }
  },
  "nbformat": 4,
  "nbformat_minor": 5
}